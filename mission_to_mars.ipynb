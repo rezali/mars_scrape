{
 "cells": [
  {
   "cell_type": "code",
   "execution_count": 1,
   "metadata": {},
   "outputs": [],
   "source": [
    "# Dependencies\n",
    "from bs4 import BeautifulSoup\n",
    "import requests\n",
    "import pandas as pd\n",
    "from splinter import Browser\n",
    "from splinter.exceptions import ElementDoesNotExist"
   ]
  },
  {
   "cell_type": "code",
   "execution_count": 2,
   "metadata": {},
   "outputs": [],
   "source": [
    "#initialize browser\n",
    "def init_browser():\n",
    "    executable_path = {\"executable_path\": \"/users/admin/chromedriver\"}\n",
    "    browser = Browser(\"chrome\", **executable_path, headless=False)"
   ]
  },
  {
   "cell_type": "code",
   "execution_count": 3,
   "metadata": {},
   "outputs": [],
   "source": [
    "#function to scrape\n",
    "def scrape_news():\n",
    "    #initialize browser\n",
    "    browser = init_browser()\n",
    "    \n",
    "    #visit the Mars news website\n",
    "    url = 'https://mars.nasa.gov/news/'\n",
    "    browser.visit(url)\n",
    "    \n",
    "    # scrape page into soup\n",
    "    html = browser.html\n",
    "    soup = BeautifulSoup(html, 'html.parser')\n",
    "    \n",
    "    # find the articles \n",
    "    article = soup.find(\"div\", class_=\"list_text\")\n",
    "   \n",
    "    # Get and print the article's headline, title, date into variables\n",
    "    news_p = article.find(\"div\", class_=\"article_teaser_body\").text\n",
    "    news_title = article.find(\"div\", class_=\"content_title\").text\n",
    "    news_date = article.find(\"div\", class_=\"list_date\").text\n",
    "    \n",
    "    #store in dictionary\n",
    "    news = {\n",
    "        \"date\": news_date,\n",
    "        \"title\": news_title,\n",
    "        \"text\": news_p\n",
    "    }\n",
    "    \n",
    "    #return results\n",
    "    return news"
   ]
  },
  {
   "cell_type": "code",
   "execution_count": 4,
   "metadata": {},
   "outputs": [],
   "source": [
    "#function to scrape JPL for their featured image\n",
    "def scrape_JPL():\n",
    "    #initialize browser\n",
    "    browser = init_browser()\n",
    "    \n",
    "    #visit JPL's website\n",
    "    url2 = \"https://www.jpl.nasa.gov/spaceimages/?search=&category=Mars\"\n",
    "    browser.visit(url2)\n",
    "    \n",
    "    #scrape page into soup\n",
    "    html = browser.html\n",
    "    soup = BeautifulSoup(html, 'html.parser')\n",
    "    \n",
    "    #find the featured image\n",
    "    image = soup.find(\"img\", class_=\"thumb\")[\"src\"]\n",
    "    \n",
    "    #get and print the featured image\n",
    "    img_url = \"https://jpl.nasa.gov\"+image\n",
    "    \n",
    "    return img_url    "
   ]
  },
  {
   "cell_type": "code",
   "execution_count": 5,
   "metadata": {},
   "outputs": [],
   "source": [
    "# Mars Weather Twitter\n",
    "#url3 = \"https://twitter.com/marswxreport?lang=en\"\n",
    "#browser.visit(url3)\n",
    "#html = browser.html\n",
    "#soup = BeautifulSoup(html, 'html.parser')"
   ]
  },
  {
   "cell_type": "code",
   "execution_count": 7,
   "metadata": {},
   "outputs": [],
   "source": [
    "# Mars Facts\n",
    "def scrape_facts():\n",
    "    #initialize browser\n",
    "    browser = init_browser()\n",
    "    \n",
    "    url4 = \"http://space-facts.com/mars/\"\n",
    "    browser.visit(url4)\n",
    "    \n",
    "    html = browser.html\n",
    "    soup = BeautifulSoup(html, 'html.parser')\n",
    "    \n",
    "    #now use pandas to scrape facts like diamter, mass ,etc. Convert data to html table string\n",
    "    tables = pd.read_html(url4)\n"
   ]
  },
  {
   "cell_type": "code",
   "execution_count": null,
   "metadata": {},
   "outputs": [],
   "source": [
    "## Mars Hemispheres\n",
    "#visit USGS, save img url string, use py dict to store data, append dict.\n",
    "#https://astrogeology.usgs.gov/cache/images/cfa62af2557222a02478f1fcd781d445_cerberus_enhanced.tif_full.jpg\n",
    "    "
   ]
  }
 ],
 "metadata": {
  "kernelspec": {
   "display_name": "Python 3",
   "language": "python",
   "name": "python3"
  },
  "language_info": {
   "codemirror_mode": {
    "name": "ipython",
    "version": 3
   },
   "file_extension": ".py",
   "mimetype": "text/x-python",
   "name": "python",
   "nbconvert_exporter": "python",
   "pygments_lexer": "ipython3",
   "version": "3.6.5"
  }
 },
 "nbformat": 4,
 "nbformat_minor": 2
}
