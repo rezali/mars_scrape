{
 "cells": [
  {
   "cell_type": "code",
   "execution_count": null,
   "metadata": {},
   "outputs": [],
   "source": [
    "#import libraries\n",
    "from splinter import Browser\n",
    "from bs4 import BeautifulSoup\n",
    "from flask import Flask, render_template, redirect\n",
    "from flask_pymongo import PyMongo\n"
   ]
  },
  {
   "cell_type": "code",
   "execution_count": null,
   "metadata": {},
   "outputs": [],
   "source": [
    "#import your web scraping file\n",
    "import mission_to_mars "
   ]
  },
  {
   "cell_type": "code",
   "execution_count": null,
   "metadata": {},
   "outputs": [],
   "source": [
    "# create instance of Flask app\n",
    "app = Flask(__name__)\n",
    "\n",
    "# Use flask_pymongo to set up mongo connection ##NOT SURE if i'm creating mars_app here or if it already needs to be created in mongo\n",
    "app.config[\"MONGO_URI\"] = \"mongodb://localhost:27017/mars_app\"\n",
    "mongo = PyMongo(app)"
   ]
  },
  {
   "cell_type": "code",
   "execution_count": null,
   "metadata": {},
   "outputs": [],
   "source": [
    "# create route that renders index.html\n",
    "@app.route(\"/\")\n",
    "def index():\n",
    "    #find data\n",
    "    results = mongo.db.collection.find()\n",
    "    #return template and data\n",
    "    return render_template(\"index.html\", data=data)"
   ]
  },
  {
   "cell_type": "code",
   "execution_count": null,
   "metadata": {},
   "outputs": [],
   "source": [
    "# route that will trigger scrape functions\n",
    "@app.route(\"/scrape\")\n",
    "def scrape():\n",
    "    # run scraped functions\n",
    "    news = mission_to_mars.scrape_news()\n",
    "    img_url = mission_to_mars.scrape_JPL()\n",
    "    tables = mission_to_mars.scrape_facts()\n",
    "    \n",
    "    #store results in dictionary\n",
    "    result = {\n",
    "        \"date\": news[\"date\"],\n",
    "        \"title\": news[\"title\"],\n",
    "        \"text\": news[\"text\"],\n",
    "        \"image\": img_url[\"img_url\"]\n",
    "        \"facts\": tables[\"tables\"]                     \n",
    "    }\n",
    "    \n",
    "    # Insert result into database\n",
    "    mongo.db.collection.insert_one(result)\n",
    "\n",
    "    # Redirect back to home page\n",
    "    return redirect(\"/\", code=302)\n",
    "\n",
    "\n",
    "if __name__ == \"__main__\":\n",
    "    app.run(debug=True)  \n"
   ]
  }
 ],
 "metadata": {
  "kernelspec": {
   "display_name": "Python 3",
   "language": "python",
   "name": "python3"
  },
  "language_info": {
   "codemirror_mode": {
    "name": "ipython",
    "version": 3
   },
   "file_extension": ".py",
   "mimetype": "text/x-python",
   "name": "python",
   "nbconvert_exporter": "python",
   "pygments_lexer": "ipython3",
   "version": "3.6.5"
  }
 },
 "nbformat": 4,
 "nbformat_minor": 2
}
